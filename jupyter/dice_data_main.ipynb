{
 "cells": [
  {
   "cell_type": "code",
   "execution_count": null,
   "metadata": {},
   "outputs": [],
   "source": [
    "import random\n",
    "import matplotlib.pyplot as plt\n",
    "\n",
    "min_v = 1\n",
    "max_v = 6\n",
    "\n",
    "data = [0 for x in range(0,6)]\n",
    "\n",
    "shot = int(input(\"number of shots\"))\n",
    "for i in range(shot):\n",
    "    data[random.randint(min_v, max_v)-1] += 1\n",
    "names = [x for x in range(0,6)]   \n",
    "plt.bar(names, data)\n",
    "plt.show()"
   ]
  },
  {
   "cell_type": "code",
   "execution_count": 20,
   "metadata": {},
   "outputs": [
    {
     "name": "stdout",
     "output_type": "stream",
     "text": [
      "number of shots : 1000\n"
     ]
    },
    {
     "data": {
      "image/png": "[encoded data removed]",
      "text/plain": [
       "<Figure size 432x288 with 1 Axes>"
      ]
     },
     "metadata": {
      "needs_background": "light"
     },
     "output_type": "display_data"
    }
   ],
   "source": [
    "import random\n",
    "import matplotlib.pyplot as plt\n",
    "\n",
    "min_v = 1\n",
    "max_v = 6\n",
    "\n",
    "data = [0 for x in range(0,6)]\n",
    "\n",
    "shots = int(input(\"number of shots : \"))\n",
    "for i in range(5):\n",
    "    for i in range(shot):\n",
    "        data[random.randint(min_v, max_v)-1] += 1\n",
    "names = [x+1 for x in range(0,6)]   \n",
    "plt.bar(names, data)\n",
    "plt.show()"
   ]
  }
 ],
 "metadata": {
  "kernelspec": {
   "display_name": "Python 3",
   "language": "python",
   "name": "python3"
  },
  "language_info": {
   "codemirror_mode": {
    "name": "ipython",
    "version": 3
   },
   "file_extension": ".py",
   "mimetype": "text/x-python",
   "name": "python",
   "nbconvert_exporter": "python",
   "pygments_lexer": "ipython3",
   "version": "3.8.3"
  }
 },
 "nbformat": 4,
 "nbformat_minor": 4
}
